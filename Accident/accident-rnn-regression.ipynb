{
 "cells": [
  {
   "cell_type": "markdown",
   "metadata": {},
   "source": [
    "## 导入数据"
   ]
  },
  {
   "cell_type": "code",
   "execution_count": 2,
   "metadata": {},
   "outputs": [
    {
     "ename": "ModuleNotFoundError",
     "evalue": "No module named 'pandas'",
     "output_type": "error",
     "traceback": [
      "\u001b[0;31m---------------------------------------------------------------------------\u001b[0m",
      "\u001b[0;31mModuleNotFoundError\u001b[0m                       Traceback (most recent call last)",
      "\u001b[0;32m<ipython-input-2-c1c97305a908>\u001b[0m in \u001b[0;36m<module>\u001b[0;34m\u001b[0m\n\u001b[1;32m      1\u001b[0m \u001b[0;32mimport\u001b[0m \u001b[0mos\u001b[0m\u001b[0;34m\u001b[0m\u001b[0;34m\u001b[0m\u001b[0m\n\u001b[0;32m----> 2\u001b[0;31m \u001b[0;32mimport\u001b[0m \u001b[0mpandas\u001b[0m \u001b[0;32mas\u001b[0m \u001b[0mpd\u001b[0m\u001b[0;34m\u001b[0m\u001b[0;34m\u001b[0m\u001b[0m\n\u001b[0m\u001b[1;32m      3\u001b[0m \u001b[0;32mimport\u001b[0m \u001b[0mnumpy\u001b[0m \u001b[0;32mas\u001b[0m \u001b[0mnp\u001b[0m\u001b[0;34m\u001b[0m\u001b[0;34m\u001b[0m\u001b[0m\n\u001b[1;32m      4\u001b[0m \u001b[0;34m\u001b[0m\u001b[0m\n\u001b[1;32m      5\u001b[0m \u001b[0mget_ipython\u001b[0m\u001b[0;34m(\u001b[0m\u001b[0;34m)\u001b[0m\u001b[0;34m.\u001b[0m\u001b[0mrun_line_magic\u001b[0m\u001b[0;34m(\u001b[0m\u001b[0;34m'matplotlib'\u001b[0m\u001b[0;34m,\u001b[0m \u001b[0;34m'inline'\u001b[0m\u001b[0;34m)\u001b[0m\u001b[0;34m\u001b[0m\u001b[0;34m\u001b[0m\u001b[0m\n",
      "\u001b[0;31mModuleNotFoundError\u001b[0m: No module named 'pandas'"
     ]
    }
   ],
   "source": [
    "import os\n",
    "import pandas as pd\n",
    "import numpy as np\n",
    "\n",
    "%matplotlib inline\n",
    "import matplotlib.pyplot as plt"
   ]
  },
  {
   "cell_type": "code",
   "execution_count": 29,
   "metadata": {},
   "outputs": [
    {
     "name": "stdout",
     "output_type": "stream",
     "text": [
      "(17532, 12)\n",
      "(17532, 10)\n"
     ]
    }
   ],
   "source": [
    "DATA_FILENAME = './2hours.csv'\n",
    "acc_all = pd.read_csv(DATA_FILENAME)\n",
    "acc_labels = acc_all['accident num']\n",
    "acc = acc_all.copy()\n",
    "acc.drop(['accident num'],axis=1,inplace=True)\n",
    "# 时间列不需要，sequence序列可表示时间\n",
    "acc.drop(['Time'],axis=1,inplace=True)\n",
    "print(acc_all.shape)\n",
    "print(acc.shape)"
   ]
  },
  {
   "cell_type": "markdown",
   "metadata": {},
   "source": [
    "## 数据预处理"
   ]
  },
  {
   "cell_type": "code",
   "execution_count": 30,
   "metadata": {},
   "outputs": [
    {
     "name": "stdout",
     "output_type": "stream",
     "text": [
      "Index(['holiday'], dtype='object')\n",
      "Index(['accident type'], dtype='object')\n",
      "Index(['precipitation', 'visibility', 'wind', 'wind direction', 'fog', 'rain',\n",
      "       'sun rise', 'sun set'],\n",
      "      dtype='object')\n"
     ]
    }
   ],
   "source": [
    "cat_attributes = acc.columns[[1]]\n",
    "time_attributes = acc.columns[[0]]\n",
    "num_attributes = acc.columns[[n for n in range(2,acc.shape[1])]]\n",
    "print(cat_attributes)\n",
    "print(time_attributes)\n",
    "print(num_attributes)"
   ]
  },
  {
   "cell_type": "code",
   "execution_count": 31,
   "metadata": {},
   "outputs": [],
   "source": [
    "from sklearn.pipeline import Pipeline\n",
    "from sklearn.preprocessing import StandardScaler\n",
    "from sklearn.preprocessing import LabelBinarizer\n",
    "from sklearn.pipeline import FeatureUnion\n",
    "from sklearn.base import BaseEstimator, TransformerMixin\n",
    "from datetime import datetime, date, time\n",
    "\n",
    "class DataFrameSelector(BaseEstimator, TransformerMixin):\n",
    "    def __init__(self, attribute_names):\n",
    "        self.attribute_names = attribute_names\n",
    "    def fit(self, x, y=None):\n",
    "        return self\n",
    "    def transform(self, x):\n",
    "        return x[self.attribute_names].values\n",
    "\n",
    "class LabelBinarizerPipelineFriendly(LabelBinarizer):\n",
    "    def fit(self, X, y=None):\n",
    "        \"\"\"this would allow us to fit the model based on the X input.\"\"\"\n",
    "        super(LabelBinarizerPipelineFriendly, self).fit(X)\n",
    "    def transform(self, X, y=None):\n",
    "        return super(LabelBinarizerPipelineFriendly, self).transform(X)\n",
    "    def fit_transform(self, X, y=None):\n",
    "        print(\"debug:fit_transform len(x)=%d\"%(len(X)))\n",
    "        return super(LabelBinarizerPipelineFriendly, self).fit(X).transform(X)\n",
    "\n",
    "class TimeAttribsTransformer(BaseEstimator, TransformerMixin):\n",
    "    def __init__(self,time_from='01/01/2011 00:00'):\n",
    "        self.from_dt = datetime.strptime(time_from, \"%d/%m/%Y %H:%M\")\n",
    "    def fit(self,x, y=None):\n",
    "        return self\n",
    "    def __do_transform__(self, timeStr):\n",
    "        #return timeStr\n",
    "        day_time_splits = timeStr.split(' ')\n",
    "        dt_format = \"%d/%m/%Y %H:%M\" if len(day_time_splits[0]) > len(day_time_splits[1]) else \"%H:%M %d/%m/%Y\"\n",
    "        dt = datetime.strptime(timeStr, dt_format)\n",
    "        dt_delta = dt-self.from_dt\n",
    "        #hours = dt_delta.days*24+dt_delta.seconds/3600\n",
    "        # 只关注小时时间\n",
    "        hours= dt_delta.seconds/3600\n",
    "        return hours/2\n",
    "    def transform(self,x,y=None):\n",
    "        # hours from 2000/1/1 0:00\n",
    "        time_sequence = np.array([self.__do_transform__(str(val[0])) for val in x])\n",
    "        return np.c_[time_sequence]    "
   ]
  },
  {
   "cell_type": "code",
   "execution_count": 32,
   "metadata": {},
   "outputs": [],
   "source": [
    "from sklearn.pipeline import Pipeline\n",
    "\n",
    "# 时间类数据处理\n",
    "time_pipeline = Pipeline([\n",
    "    # 数据选择\n",
    "    ('selector', DataFrameSelector(time_attributes)),\n",
    "     # 数据选择\n",
    "    ('time_transformer', TimeAttribsTransformer())\n",
    "])\n",
    "\n",
    "# 分类型数据处理num_attributes\n",
    "cat_pipeline = Pipeline([    \n",
    "    # 数据选择\n",
    "    ('selector', DataFrameSelector(cat_attributes)),\n",
    "    # 分类值独热编码\n",
    "    ('label_binarizer', LabelBinarizerPipelineFriendly())\n",
    "])\n",
    "\n",
    "num_pipeline = Pipeline([\n",
    "    # 数据选择\n",
    "    ('selector', DataFrameSelector(num_attributes)),\n",
    "    # 标准化：标准差标准化\n",
    "    ('scaler', StandardScaler())\n",
    "])\n",
    "\n",
    "# pipeline集合\n",
    "full_pipelines = FeatureUnion([\n",
    "    ('num_pipeline',num_pipeline),\n",
    "    ('cat_pipeline',cat_pipeline),\n",
    "    #('time_pipeline',time_pipeline)\n",
    "])\n"
   ]
  },
  {
   "cell_type": "code",
   "execution_count": 33,
   "metadata": {},
   "outputs": [
    {
     "name": "stdout",
     "output_type": "stream",
     "text": [
      "debug:fit_transform len(x)=17532\n",
      "(17532, 9)\n",
      "0    16219\n",
      "1     1212\n",
      "2       98\n",
      "3        3\n",
      "Name: accident num, dtype: int64\n",
      "[[-0.06465394  0.2651457   1.15043477 -0.21958904 -0.20362638 -0.27402253\n",
      "  -0.30910287 -0.31427953  1.        ]\n",
      " [-0.06465394  0.2651457   0.05587862 -0.21958904 -0.20362638 -0.27402253\n",
      "  -0.30910287 -0.31427953  1.        ]\n",
      " [-0.06465394  0.2651457   0.71070873 -0.21958904 -0.20362638 -0.27402253\n",
      "  -0.30910287 -0.31427953  1.        ]\n",
      " [-0.06465394  0.2651457   1.15043477 -0.21958904 -0.20362638 -0.27402253\n",
      "   3.23516891 -0.31427953  1.        ]]\n"
     ]
    }
   ],
   "source": [
    "# 准备输入数据\n",
    "acc_prepared = full_pipelines.fit_transform(acc)\n",
    "print(acc_prepared.shape)\n",
    "print(acc_labels.value_counts())\n",
    "print(acc_prepared[0:4])"
   ]
  },
  {
   "cell_type": "code",
   "execution_count": 34,
   "metadata": {},
   "outputs": [
    {
     "name": "stdout",
     "output_type": "stream",
     "text": [
      "0    16219\n",
      "1     1212\n",
      "2       98\n",
      "3        3\n",
      "Name: accident num, dtype: int64\n",
      "debug:fit_transform len(x)=17532\n",
      "(17532, 4)\n"
     ]
    }
   ],
   "source": [
    "# 准备输出数据，分类任务，使用独热编码\n",
    "print(acc_labels.value_counts())\n",
    "label_pipeline = Pipeline([\n",
    "    ('label_binarizer', LabelBinarizerPipelineFriendly())    \n",
    "])\n",
    "acc_labels_1hot = label_pipeline.fit_transform(acc_labels)\n",
    "print(acc_labels_1hot.shape)"
   ]
  },
  {
   "cell_type": "markdown",
   "metadata": {},
   "source": [
    "## 使用Tensorflow描述RNN网络"
   ]
  },
  {
   "cell_type": "code",
   "execution_count": 35,
   "metadata": {},
   "outputs": [
    {
     "name": "stdout",
     "output_type": "stream",
     "text": [
      "1.9.0\n"
     ]
    }
   ],
   "source": [
    "import tensorflow as tf\n",
    "from tensorflow.contrib.layers import fully_connected\n",
    "\n",
    "import time\n",
    "\n",
    "print(tf.__version__)"
   ]
  },
  {
   "cell_type": "code",
   "execution_count": 1,
   "metadata": {},
   "outputs": [
    {
     "ename": "NameError",
     "evalue": "name 'acc_prepared' is not defined",
     "output_type": "error",
     "traceback": [
      "\u001b[0;31m---------------------------------------------------------------------------\u001b[0m",
      "\u001b[0;31mNameError\u001b[0m                                 Traceback (most recent call last)",
      "\u001b[0;32m<ipython-input-1-dea6363b8641>\u001b[0m in \u001b[0;36m<module>\u001b[0;34m\u001b[0m\n\u001b[0;32m----> 1\u001b[0;31m \u001b[0mdata_x\u001b[0m \u001b[0;34m=\u001b[0m \u001b[0macc_prepared\u001b[0m\u001b[0;34m[\u001b[0m\u001b[0;34m:\u001b[0m\u001b[0macc_prepared\u001b[0m\u001b[0;34m.\u001b[0m\u001b[0mshape\u001b[0m\u001b[0;34m[\u001b[0m\u001b[0;36m0\u001b[0m\u001b[0;34m]\u001b[0m\u001b[0;34m,\u001b[0m\u001b[0;34m]\u001b[0m\u001b[0;34m\u001b[0m\u001b[0;34m\u001b[0m\u001b[0m\n\u001b[0m\u001b[1;32m      2\u001b[0m \u001b[0mprint\u001b[0m\u001b[0;34m(\u001b[0m\u001b[0mdata_x\u001b[0m\u001b[0;34m.\u001b[0m\u001b[0mshape\u001b[0m\u001b[0;34m)\u001b[0m\u001b[0;34m\u001b[0m\u001b[0;34m\u001b[0m\u001b[0m\n\u001b[1;32m      3\u001b[0m \u001b[0;34m\u001b[0m\u001b[0m\n\u001b[1;32m      4\u001b[0m \u001b[0mdata_y\u001b[0m \u001b[0;34m=\u001b[0m \u001b[0macc_labels\u001b[0m\u001b[0;34m[\u001b[0m\u001b[0;36m0\u001b[0m\u001b[0;34m:\u001b[0m\u001b[0;34m]\u001b[0m\u001b[0;34m\u001b[0m\u001b[0;34m\u001b[0m\u001b[0m\n\u001b[1;32m      5\u001b[0m \u001b[0mprint\u001b[0m\u001b[0;34m(\u001b[0m\u001b[0mdata_y\u001b[0m\u001b[0;34m.\u001b[0m\u001b[0mshape\u001b[0m\u001b[0;34m)\u001b[0m\u001b[0;34m\u001b[0m\u001b[0;34m\u001b[0m\u001b[0m\n",
      "\u001b[0;31mNameError\u001b[0m: name 'acc_prepared' is not defined"
     ]
    }
   ],
   "source": [
    "data_x = acc_prepared[:acc_prepared.shape[0],]\n",
    "print(data_x.shape)\n",
    "\n",
    "data_y = acc_labels[0:]\n",
    "print(data_y.shape)\n",
    "\n",
    "data_y = data_y.values.reshape((-1, 1))\n",
    "print(data_y.shape)"
   ]
  },
  {
   "cell_type": "code",
   "execution_count": 17,
   "metadata": {},
   "outputs": [
    {
     "name": "stdout",
     "output_type": "stream",
     "text": [
      "[[0]\n",
      " [0]\n",
      " [0]\n",
      " [0]\n",
      " [1]\n",
      " [0]\n",
      " [0]\n",
      " [0]\n",
      " [0]\n",
      " [0]]\n"
     ]
    }
   ],
   "source": [
    "print(data_y[0:10])"
   ]
  },
  {
   "cell_type": "code",
   "execution_count": 37,
   "metadata": {},
   "outputs": [
    {
     "data": {
      "text/plain": [
       "array([  560,  1066,  1158,  1183,  3609,  4472,  4578,  6039,  6097,\n",
       "        6882,  6900,  7388,  7558,  7904,  7951,  8147,  8439,  9009,\n",
       "        9196,  9198,  9379,  9915,  9963, 10124, 10131, 10278, 10304,\n",
       "       10975, 11337, 11547, 11559, 11677, 11907, 11958, 11971, 11982,\n",
       "       11995, 12006, 12178, 12291, 12505, 12512, 12656, 12785, 12812,\n",
       "       12964, 12976, 12999, 13104, 13136, 13201, 13229, 13232, 13662,\n",
       "       13686, 13830, 13878, 13928, 13941, 13973, 13986, 13998, 14150,\n",
       "       14234, 14333, 14490, 14503, 14644, 14669, 14827, 14852, 14980,\n",
       "       15151, 15235, 15429, 15810, 15907, 16016, 16094, 16182, 16204,\n",
       "       16241, 16287, 16323, 16375, 16695, 16696, 16726, 16728, 16875,\n",
       "       16879, 16968, 17048, 17051, 17309, 17345, 17492, 17515])"
      ]
     },
     "execution_count": 37,
     "metadata": {},
     "output_type": "execute_result"
    }
   ],
   "source": [
    "arr = np.where(data_y[:,0]==2)\n",
    "arr[0]"
   ]
  },
  {
   "cell_type": "markdown",
   "metadata": {},
   "source": [
    "### 准备小批量数据"
   ]
  },
  {
   "cell_type": "code",
   "execution_count": 91,
   "metadata": {},
   "outputs": [],
   "source": [
    "\"\"\"\n",
    "生成随机批量训练数据。由于labels分布不均，手动调整数据采样密度\n",
    "\"\"\"\n",
    "def batch_generator(x, y, batch_size, sequence_length, splits=[0.4,0.7,0.95,1.0], y_labels=[0,1,2,3]):\n",
    "    x_rows = x.shape[0]\n",
    "    x_cols = x.shape[1]\n",
    "    y_cols = len(y_labels)\n",
    "\n",
    "    index_arrays = []\n",
    "    for i in range(y_cols):\n",
    "        arr = np.where(y[:,0]==i)\n",
    "        #print(i,\"arr_len\", len(arr[0]))\n",
    "        index_arrays.append(arr[0])\n",
    "    #print(index_arrays)\n",
    "    while True:\n",
    "        x_shape = (batch_size, sequence_length, x_cols)\n",
    "        x_batch = np.zeros(shape=x_shape, dtype=np.float32)\n",
    "\n",
    "        y_shape = (batch_size, 1)\n",
    "        y_batch = np.zeros(shape=y_shape, dtype=np.float32)\n",
    "        \n",
    "        end_idx = 0\n",
    "        \n",
    "        for i in range(batch_size):\n",
    "            '''\n",
    "            end_idx = np.random.randint(sequence_length-1, x_rows)\n",
    "            '''\n",
    "            end_idx = 0\n",
    "            while True:\n",
    "                num = np.random.randint(0, 100)\n",
    "                label = 0                    \n",
    "                if num >= 0 and num < splits[0]*100:\n",
    "                    label = 0\n",
    "                elif num >= splits[0]*100 and num < splits[1]*100:\n",
    "                    label = 1\n",
    "                elif num >= splits[1]*100 and num < splits[2]*100:\n",
    "                    label = 2\n",
    "                else:\n",
    "                    label = 3\n",
    "\n",
    "                if len(index_arrays[label]) == 0:\n",
    "                    end_idx = np.random.randint(sequence_length-1, x_rows)\n",
    "                else:\n",
    "                    index_idx = np.random.randint(0, len(index_arrays[label]))\n",
    "                    end_idx = index_arrays[label][index_idx]\n",
    "\n",
    "                if end_idx < sequence_length-1:\n",
    "                    continue\n",
    "                else:\n",
    "                    break\n",
    "            #'''  \n",
    "            x_batch[i] = x[end_idx-(sequence_length-1): end_idx+1]\n",
    "            y_batch[i] = y[end_idx]\n",
    "\n",
    "        yield x_batch, y_batch"
   ]
  },
  {
   "cell_type": "code",
   "execution_count": 76,
   "metadata": {},
   "outputs": [],
   "source": [
    "if False:\n",
    "    array = np.array(range(acc.shape[0]))\n",
    "    acc['index'] = pd.Series(array, index=acc.index)\n",
    "    acc.head()\n",
    "\n",
    "    test_attributes = acc.columns[[-1,5]]\n",
    "    generator_test = batch_generator(x=acc[test_attributes], y=data_y, batch_size=4, sequence_length=16)\n",
    "    for x_batch, y_batch in generator_test:\n",
    "        print(y_batch.shape)\n",
    "        for i in range(4):\n",
    "            print(x_batch[i], y_batch[i])\n",
    "        break"
   ]
  },
  {
   "cell_type": "markdown",
   "metadata": {},
   "source": [
    "### 定义RNN结构\n",
    "使用tensorflow来描述RNN网络。RNN一般有四种组织结构，如下图所示。交通数据模型选定为第2种模型seq-to-vector模型，第1种seq-to-seq模型也比较合理。\n",
    "![](./rnn-model-types.png)"
   ]
  },
  {
   "cell_type": "code",
   "execution_count": 77,
   "metadata": {},
   "outputs": [],
   "source": [
    "def graph_reset(sess=None):\n",
    "    if sess != None: \n",
    "        sess.close()\n",
    "    tf.reset_default_graph()"
   ]
  },
  {
   "cell_type": "code",
   "execution_count": 113,
   "metadata": {},
   "outputs": [
    {
     "name": "stdout",
     "output_type": "stream",
     "text": [
      "{'learning_rate_init': 0.001, 'learning_rate_decayed': 1e-05, 'n_train_steps': 1024, 'n_steps': 24, 'n_batch': 32, 'n_outputs': 1, 'n_inputs': 9, 'accuracy_max': 0.95}\n"
     ]
    }
   ],
   "source": [
    "# define the rnn configs\n",
    "n_inputs = data_x.shape[1]\n",
    "n_outputs = data_y.shape[1]\n",
    "cell_type = 'LSTM'\n",
    "n_batch = 32\n",
    "n_neurons = 64\n",
    "# 24*2 = 48hours\n",
    "n_steps = 24\n",
    "n_layers = 4\n",
    "dropout_in = False\n",
    "dropout_out = False\n",
    "dropout_prob_in = 0.5\n",
    "dropout_prob_out = 0.5\n",
    "n_train_steps = 1024\n",
    "# 先使用较大学习速率，再使用较小学习完成收殓\n",
    "learning_rate_init = 1e-3\n",
    "learning_rate_decayed = 1e-5\n",
    "accuracy_max = 0.95\n",
    "# Default: tanh\n",
    "activation=tf.nn.tanh #relu\n",
    "train_all = True\n",
    "\n",
    "configs = {\n",
    "    'learning_rate_init':learning_rate_init,\n",
    "    'learning_rate_decayed':learning_rate_decayed,\n",
    "    'n_train_steps':n_train_steps,\n",
    "    'n_steps':n_steps,\n",
    "    'n_batch':n_batch,\n",
    "    'n_outputs':n_outputs,\n",
    "    'n_inputs':n_inputs,\n",
    "    'accuracy_max':accuracy_max\n",
    "}\n",
    "print(configs)"
   ]
  },
  {
   "cell_type": "markdown",
   "metadata": {},
   "source": [
    "#### RNN模型\n",
    "\n",
    "```\n",
    "- rnn: n_neurons  \n",
    "- x: (n_batch, n_steps, n_inputs)  \n",
    "- y: (n_batch, n_outputs)\n",
    "- W: (n_nuerons, n_outputs)  \n",
    "- b: (n_outputs)  \n",
    "- x => RNN => outputs(n_batch, n_steps, n_neurons)\n",
    "- outputs => stacked_output(n_batch*n_steps, n_neurons)\n",
    "- stacked_output * W + b => (n_batch*n_steps, n_outputs) => (n_batch, n_steps, n_outputs)\n",
    "- logits_unstacked: (n_batch, n_steps, n_outputs) => (n_steps, n_batch, n_outputs)\n",
    "- logits: logits_unstacked[-1] => (n_batch, n_outputs)\n",
    "- loss: mean_reduce(logits, y)\n",
    "```"
   ]
  },
  {
   "cell_type": "code",
   "execution_count": 114,
   "metadata": {
    "scrolled": true
   },
   "outputs": [
    {
     "name": "stdout",
     "output_type": "stream",
     "text": [
      "x shape (32, 24, 9)\n",
      "y shape (32, 1)\n",
      "outputs shape (32, 24, 64)\n",
      "W shape (64, 1)\n",
      "b shape (1,)\n",
      "unstacked_output shape (768, 64)\n",
      "logits shape (32, 1)\n",
      "create rnn network within 1.636871337890625 seconds\n"
     ]
    }
   ],
   "source": [
    "graph_reset()\n",
    "\n",
    "t = time.time()\n",
    "\n",
    "learning_rate = tf.placeholder(tf.float32, shape=[])\n",
    "\n",
    "# seq to seq vector model\n",
    "x = tf.placeholder(tf.float32, [n_batch, n_steps, n_inputs], name=\"x_placeholder\")\n",
    "y = tf.placeholder(tf.float32, [n_batch, n_outputs], name=\"y_placeholder\")\n",
    "print(\"x shape\", x.shape)\n",
    "print(\"y shape\", y.shape)\n",
    "\n",
    "\n",
    "stacked_cells = []\n",
    "for i in range(n_layers):\n",
    "    cell = None\n",
    "    if cell_type == 'GRU':\n",
    "        cell = tf.contrib.rnn.GRUCell(n_neurons)\n",
    "    elif cell_type == 'LSTM':\n",
    "        cell = tf.contrib.rnn.LSTMCell(n_neurons, state_is_tuple=True)\n",
    "    else:\n",
    "        cell = tf.contrib.rnn.BasicRNNCell(n_neurons)\n",
    "    if dropout_in:\n",
    "        cell = tf.contrib.rnn.DropoutWrapper(cell, input_keep_prob=dropout_prob_in)\n",
    "    if dropout_out:\n",
    "        cell = tf.contrib.rnn.DropoutWrapper(cell, output_keep_prob=dropout_prob_out)\n",
    "\n",
    "    # add full-connect layer with OutputProjectionWrapper\n",
    "    # cell = tf.contrib.rnn.OutputProjectionWrapper(cell, output_size=n_outputs)\n",
    "    stacked_cells.append(cell)\n",
    "\n",
    "rnn_cells = tf.contrib.rnn.MultiRNNCell(stacked_cells)\n",
    "#rnn_cells = tf.contrib.rnn.MultiRNNCell(stacked_cells, state_is_tuple=cell_type == 'LSTM')\n",
    "outputs, states = tf.nn.dynamic_rnn(rnn_cells, x, dtype=tf.float32)\n",
    "print(\"outputs shape\", outputs.shape)\n",
    "\n",
    "# fully-connected layer\n",
    "W = tf.get_variable('W', [ n_neurons, n_outputs], initializer=tf.constant_initializer(0.0))\n",
    "b = tf.get_variable('b', [ n_outputs], initializer=tf.constant_initializer(0.0))\n",
    "print(\"W shape\", W.shape)\n",
    "print(\"b shape\", b.shape)\n",
    "\n",
    "\n",
    "# shape:(n_batch, n_steps, n_nuerons) => (n_batch*n_steps, n_nuerons)\n",
    "unstacked_output = tf.reshape(outputs, [-1, n_neurons])\n",
    "print(\"unstacked_output shape\", unstacked_output.shape)\n",
    "\n",
    "# unstacked_output(n_batch*n_steps, n_nuerons)\n",
    "# w(n_nuerons, n_outputs)\n",
    "# b(n_outputs)\n",
    "# fully_conn_output(n_batch*n_steps, n_output)\n",
    "fully_conn_output = tf.matmul(unstacked_output, W) + b\n",
    "# fully_conn_output(n_batch*n_steps, n_output) => (n_batch, n_steps, n_outputs) \n",
    "logits_nsteps = tf.reshape(fully_conn_output, [-1, n_steps, n_outputs])\n",
    "# logits_nsteps(n_batch, n_steps, n_outputs) => logits_nsteps n_steps*(n_batch, n_outputs) \n",
    "logits_unstacked = tf.unstack(logits_nsteps, n_steps, 1)\n",
    "# logits = tf.cast(logits_unstacked[-1], tf.int32)\n",
    "logits = logits_unstacked[-1]\n",
    "print(\"logits shape\", logits.shape)\n",
    "\n",
    "logits_1d = tf.reshape(logits,[-1])\n",
    "y_1d = tf.reshape(y,[-1])\n",
    "\n",
    "#loss_step = tf.losses.mean_squared_error(predictions=logits,labels=y)\n",
    "loss_step = tf.reduce_mean(tf.square(logits_1d - y_1d))\n",
    "#train_step = tf.train.GradientDescentOptimizer(learning_rate).minimize(loss_step)  \n",
    "train_step = tf.train.AdamOptimizer(learning_rate=learning_rate).minimize(loss_step)\n",
    "\n",
    "# accuracy\n",
    "predictions = tf.cast(logits[-1]+0.5, tf.int32)\n",
    "y_cast = tf.cast(y, tf.int32)\n",
    "correct_predict = tf.equal(predictions, y_cast)\n",
    "accuracy_step = tf.reduce_mean(tf.cast(correct_predict, tf.float32))\n",
    "\n",
    "print(\"create rnn network within\", time.time() - t, \"seconds\")"
   ]
  },
  {
   "cell_type": "markdown",
   "metadata": {},
   "source": [
    "### 训练模型"
   ]
  },
  {
   "cell_type": "code",
   "execution_count": 111,
   "metadata": {},
   "outputs": [],
   "source": [
    "data_xx = acc_prepared\n",
    "data_yy = acc_labels.values.reshape((-1, 1))"
   ]
  },
  {
   "cell_type": "code",
   "execution_count": 115,
   "metadata": {},
   "outputs": [
    {
     "name": "stdout",
     "output_type": "stream",
     "text": [
      "x_batch shape (32, 24, 9)\n",
      "Step 1, Mini-batch Loss= 1.6851, accuracy=0.3438\n",
      "Step 32, Mini-batch Loss= 1.0134, accuracy=0.2188\n",
      "Step 64, Mini-batch Loss= 0.7626, accuracy=0.3438\n",
      "Step 96, Mini-batch Loss= 0.8181, accuracy=0.2812\n",
      "Step 128, Mini-batch Loss= 0.8054, accuracy=0.3750\n",
      "Step 160, Mini-batch Loss= 0.7802, accuracy=0.2500\n",
      "Step 192, Mini-batch Loss= 0.7338, accuracy=0.3438\n",
      "Step 224, Mini-batch Loss= 0.7790, accuracy=0.3125\n",
      "Step 256, Mini-batch Loss= 0.9755, accuracy=0.2812\n",
      "Step 288, Mini-batch Loss= 0.5261, accuracy=0.3125\n",
      "Step 320, Mini-batch Loss= 0.7616, accuracy=0.2188\n",
      "Step 352, Mini-batch Loss= 0.7179, accuracy=0.3125\n",
      "Step 384, Mini-batch Loss= 0.6798, accuracy=0.2500\n",
      "Step 416, Mini-batch Loss= 0.5393, accuracy=0.2500\n",
      "Step 448, Mini-batch Loss= 0.5473, accuracy=0.2500\n",
      "Step 480, Mini-batch Loss= 0.4647, accuracy=0.3750\n",
      "Step 512, Mini-batch Loss= 0.4890, accuracy=0.1875\n",
      "Step 544, Mini-batch Loss= 0.8709, accuracy=0.2812\n",
      "Step 576, Mini-batch Loss= 0.6602, accuracy=0.2500\n",
      "Step 608, Mini-batch Loss= 0.5197, accuracy=0.3125\n",
      "Step 640, Mini-batch Loss= 0.5056, accuracy=0.2500\n",
      "Step 672, Mini-batch Loss= 0.4065, accuracy=0.3125\n",
      "Step 704, Mini-batch Loss= 0.4062, accuracy=0.2500\n",
      "Step 736, Mini-batch Loss= 0.5852, accuracy=0.3125\n",
      "Step 768, Mini-batch Loss= 0.6953, accuracy=0.3750\n",
      "Step 800, Mini-batch Loss= 0.5393, accuracy=0.3125\n",
      "Step 832, Mini-batch Loss= 0.5111, accuracy=0.3750\n",
      "Step 864, Mini-batch Loss= 0.5743, accuracy=0.2188\n",
      "Step 896, Mini-batch Loss= 0.4627, accuracy=0.3125\n",
      "Step 928, Mini-batch Loss= 0.7527, accuracy=0.1875\n",
      "Step 960, Mini-batch Loss= 0.4980, accuracy=0.1875\n",
      "Step 992, Mini-batch Loss= 0.5396, accuracy=0.2188\n",
      "training @steps 1024 ,stop it\n",
      "Optimization Finished!\n"
     ]
    },
    {
     "data": {
      "image/png": "[encoded data removed]",
      "text/plain": [
       "<Figure size 576x288 with 1 Axes>"
      ]
     },
     "metadata": {},
     "output_type": "display_data"
    }
   ],
   "source": [
    "import matplotlib\n",
    "\n",
    "if train_all:\n",
    "    generator = batch_generator(x=data_x,\n",
    "                                y=data_y, \n",
    "                                batch_size = n_batch, \n",
    "                                sequence_length = n_steps)\n",
    "    \n",
    "    init = tf.global_variables_initializer()\n",
    "    step = 0\n",
    "    train_record = {\n",
    "        'step':[],\n",
    "        'loss':[],\n",
    "        'accuracy':[]\n",
    "    }\n",
    "    with tf.Session() as sess:\n",
    "        step_display = 32\n",
    "        step_statistics = 16\n",
    "\n",
    "        sess.run(init)\n",
    "        for x_batch, y_batch in generator:\n",
    "            #print('x_batch',x_batch)\n",
    "            #print('y_batch',y_batch)\n",
    "            \n",
    "            step=step+1\n",
    "            if(step >= n_train_steps):\n",
    "                print(\"training @steps\",n_train_steps,\",stop it\")\n",
    "                break\n",
    "            if step == 1:\n",
    "                print(\"x_batch shape\", x_batch.shape)\n",
    "            sess.run(train_step, feed_dict={\n",
    "                x:x_batch, \n",
    "                y:y_batch, \n",
    "                learning_rate:learning_rate_init if step<(n_train_steps/2) else learning_rate_decayed})\n",
    "            \n",
    "            # debug step == 1:\n",
    "            if step < 1:\n",
    "                s_fully_conn_output, s_logits = sess.run([fully_conn_output,\n",
    "                                                                                  logits], \n",
    "                                                                                  feed_dict={x:x_batch, y:y_batch})\n",
    "                print(s_fully_conn_output[0:36])\n",
    "                print(s_logits[0:6])\n",
    "\n",
    "\n",
    "            if step % step_statistics == 0 or step < 16:\n",
    "                loss,accuracy = sess.run([loss_step,accuracy_step], feed_dict={x:x_batch, y:y_batch})\n",
    "                train_record['step'].append(step)\n",
    "                train_record['loss'].append(loss)\n",
    "                train_record['accuracy'].append(accuracy)\n",
    "\n",
    "                if step % step_display == 0 or step == 1:\n",
    "                    print(\"Step \" + str(step) + \", Mini-batch Loss= \" + \\\n",
    "                          \"{:.4f}\".format(loss) + \", accuracy=\" + \\\n",
    "                          \"{:.4f}\".format(accuracy))\n",
    "                \n",
    "                if step < 16:\n",
    "                    logits_unstacked_res, logist_1d_res, y_1d_res = sess.run([logits_unstacked,logits_1d,y_1d],\n",
    "                                           feed_dict={x:x_batch, y:y_batch})\n",
    "                    #print(logits_unstacked_res)\n",
    "                    #print(logist_1d_res)\n",
    "                    #print(y_1d_res)\n",
    "                \n",
    "\n",
    "\n",
    "    # plot result\n",
    "    matplotlib.rc('figure', figsize=(8,4))\n",
    "    plt.plot(train_record['step'], train_record['loss'], linewidth=2, color='blue')\n",
    "    plt.plot(train_record['step'], train_record['accuracy'], linewidth=2, color='red')\n",
    "    print(\"Optimization Finished!\")"
   ]
  },
  {
   "cell_type": "markdown",
   "metadata": {},
   "source": [
    "### 交叉验证"
   ]
  },
  {
   "cell_type": "code",
   "execution_count": 21,
   "metadata": {},
   "outputs": [],
   "source": [
    "def train_validate(sess, model, train_generator, val_generator, configs):\n",
    "    step = 0\n",
    "    step_display = 64\n",
    "    step_statistics = 8\n",
    "    train_record = {\n",
    "      'step':[],\n",
    "      'loss':[],\n",
    "      'accuracy':[]\n",
    "    }\n",
    "    accuracy = 0.0\n",
    "    loss = 0.0\n",
    "    accuracy_counter = 0\n",
    "\n",
    "    init = tf.global_variables_initializer()\n",
    "    sess.run(init)\n",
    "\n",
    "    # train steps\n",
    "    for x_batch, y_batch in train_generator:\n",
    "        step=step+1\n",
    "        if(step >= configs['n_train_steps']):\n",
    "            break\n",
    "    \n",
    "        my_learning_rate = configs['learning_rate_init']\n",
    "        if step > (configs['n_train_steps']/2):\n",
    "            my_learning_rate = configs['learning_rate_decayed']\n",
    "\n",
    "        sess.run(model['train_step'], feed_dict={\n",
    "            x : x_batch, \n",
    "            y : y_batch, \n",
    "            learning_rate : my_learning_rate })\n",
    "        \n",
    "        accuracy = sess.run(model['accuracy_step'], feed_dict={x:x_batch, y:y_batch})\n",
    "        if(accuracy > configs['accuracy_max']):\n",
    "            accuracy_counter += 1\n",
    "            #print(\"Step \",step, \"accuracy_counter \", accuracy_counter ,\", accuracy:\",accuracy)\n",
    "        else:\n",
    "            accuracy_counter = 0\n",
    "        if accuracy_counter >= 8:\n",
    "            break\n",
    "\n",
    "        if step % step_statistics == 0 or step < 16:\n",
    "            loss = sess.run(model['loss_step'], feed_dict={x:x_batch, y:y_batch})\n",
    "            train_record['step'].append(step)\n",
    "            train_record['loss'].append(loss)\n",
    "            train_record['accuracy'].append(accuracy)\n",
    "            if step % step_display == 0 or step == 1:\n",
    "                print(\"Step \" + str(step) + \", Mini-batch Loss= \" + \\\n",
    "                      \"{:.4f}\".format(loss) + \", accuracy=\" + \\\n",
    "                      \"{:.4f}\".format(accuracy))\n",
    "    # cross validate\n",
    "    for x_batch, y_batch in val_generator:\n",
    "        loss,accuracy = sess.run([model['loss_step'],model['accuracy_step']],\n",
    "                                                   feed_dict={x:x_batch, y:y_batch})\n",
    "        print(\"cross validate accuracy:\",accuracy, ',loss:',loss)\n",
    "        break\n",
    "    \n",
    "    return train_record, loss, accuracy"
   ]
  },
  {
   "cell_type": "code",
   "execution_count": 22,
   "metadata": {},
   "outputs": [],
   "source": [
    "from sklearn.model_selection import KFold\n",
    "\n",
    "def cross_validate(sess, x, y, configs, split_size=4, n_val_steps=128):\n",
    "    train_records = []\n",
    "    cv_loss_records = []\n",
    "    cv_accuracy_records = []\n",
    "    \n",
    "    # k-fold split\n",
    "    kf = KFold(n_splits=split_size)\n",
    "    for train_idx, val_idx in kf.split(x, y):\n",
    "        train_x = x[train_idx]\n",
    "        train_y = y[train_idx]\n",
    "        val_x = x[val_idx]\n",
    "        val_y = y[val_idx]\n",
    "\n",
    "        train_generator = batch_generator(x=train_x, \n",
    "                                            y=train_y, \n",
    "                                            batch_size=configs['n_batch'], \n",
    "                                            sequence_length=configs['n_steps'])\n",
    "        val_generator = batch_generator(x=val_x, \n",
    "                            y=val_y, \n",
    "                            batch_size=configs['n_batch']*2, \n",
    "                            sequence_length=configs['n_steps'])\n",
    "        model = {\n",
    "            'train_step':train_step,\n",
    "            'loss_step':loss_step,\n",
    "            'accuracy_step':accuracy_step\n",
    "        }\n",
    "        \n",
    "        train_record, loss, accuracy = train_validate(\n",
    "            sess=sess,\n",
    "            model=model, \n",
    "            train_generator=train_generator, \n",
    "            val_generator=val_generator, \n",
    "            configs=configs\n",
    "        )\n",
    "        train_records.append(train_record)\n",
    "        cv_accuracy_records.append(accuracy)\n",
    "        cv_loss_records.append(loss)\n",
    "        \n",
    "        # REMOVE ME:暂时只使用一个集合训练\n",
    "        break\n",
    "    \n",
    "    return train_records, cv_loss_records, cv_accuracy_records"
   ]
  },
  {
   "cell_type": "code",
   "execution_count": 23,
   "metadata": {},
   "outputs": [
    {
     "name": "stdout",
     "output_type": "stream",
     "text": [
      "Step 1, Mini-batch Loss= 1.6263, accuracy=0.4375\n",
      "Step 64, Mini-batch Loss= 0.7739, accuracy=0.4062\n",
      "Step 128, Mini-batch Loss= 1.0380, accuracy=0.1875\n",
      "Step 192, Mini-batch Loss= 0.7569, accuracy=0.2188\n",
      "Step 256, Mini-batch Loss= 0.5641, accuracy=0.4062\n",
      "Step 320, Mini-batch Loss= 0.7614, accuracy=0.2500\n",
      "Step 384, Mini-batch Loss= 0.6194, accuracy=0.3750\n",
      "Step 448, Mini-batch Loss= 0.9839, accuracy=0.0938\n",
      "Step 512, Mini-batch Loss= 0.8535, accuracy=0.2188\n",
      "Step 576, Mini-batch Loss= 0.8562, accuracy=0.1875\n",
      "Step 640, Mini-batch Loss= 0.7501, accuracy=0.3438\n",
      "Step 704, Mini-batch Loss= 0.7540, accuracy=0.2812\n",
      "Step 768, Mini-batch Loss= 0.7007, accuracy=0.2500\n",
      "Step 832, Mini-batch Loss= 0.7939, accuracy=0.2500\n",
      "Step 896, Mini-batch Loss= 0.6351, accuracy=0.2500\n",
      "Step 960, Mini-batch Loss= 0.7439, accuracy=0.3438\n",
      "cross validate accuracy: 0.25 ,loss: 0.7202111\n",
      "train and cross-validate done\n"
     ]
    }
   ],
   "source": [
    "sess = tf.Session()\n",
    "train_records, cv_loss_records, cv_accuracy_records = cross_validate(\n",
    "    sess, x=data_x, y=data_y, configs=configs, split_size=4\n",
    ")\n",
    "print(\"train and cross-validate done\")"
   ]
  },
  {
   "cell_type": "code",
   "execution_count": 24,
   "metadata": {},
   "outputs": [
    {
     "name": "stdout",
     "output_type": "stream",
     "text": [
      "[0.25]\n"
     ]
    },
    {
     "data": {
      "image/png": "[encoded data removed]",
      "text/plain": [
       "<Figure size 720x360 with 1 Axes>"
      ]
     },
     "metadata": {},
     "output_type": "display_data"
    }
   ],
   "source": [
    "import matplotlib\n",
    "\n",
    "matplotlib.rc('figure', figsize=(10,5))\n",
    "colors=['blue','red','gray','green']\n",
    "color_idx = 0\n",
    "for train_record in train_records:\n",
    "    plt.plot(train_record['step'], train_record['loss'], linewidth=2, color=colors[color_idx], alpha=0.5)\n",
    "    plt.plot(train_record['step'], train_record['accuracy'], linewidth=2, color=colors[color_idx])\n",
    "    color_idx+=1\n",
    "\n",
    "# cross-validate accuracy result\n",
    "print(cv_accuracy_records)"
   ]
  }
 ],
 "metadata": {
  "kernelspec": {
   "display_name": "Python 3",
   "language": "python",
   "name": "python3"
  },
  "language_info": {
   "codemirror_mode": {
    "name": "ipython",
    "version": 3
   },
   "file_extension": ".py",
   "mimetype": "text/x-python",
   "name": "python",
   "nbconvert_exporter": "python",
   "pygments_lexer": "ipython3",
   "version": "3.8.2"
  }
 },
 "nbformat": 4,
 "nbformat_minor": 2
}
