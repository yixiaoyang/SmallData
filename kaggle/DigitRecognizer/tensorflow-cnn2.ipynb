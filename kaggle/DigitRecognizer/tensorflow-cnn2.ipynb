{
 "cells": [
  {
   "cell_type": "code",
   "execution_count": 1,
   "metadata": {
    "collapsed": true
   },
   "outputs": [],
   "source": [
    "#!/usr/bin/python\n",
    "# -*- coding: utf-8 *-*\n",
    "\n",
    "import numpy as np\n",
    "import tensorflow as tf\n",
    "from tensorflow.examples.tutorials.mnist import input_data\n",
    "\n",
    "import pandas as pd\n",
    "import matplotlib.pyplot as plt\n",
    "\n",
    "%matplotlib inline"
   ]
  },
  {
   "cell_type": "markdown",
   "metadata": {},
   "source": [
    "preview the data, features, shape"
   ]
  },
  {
   "cell_type": "code",
   "execution_count": 2,
   "metadata": {
    "collapsed": true
   },
   "outputs": [],
   "source": [
    "test_data = pd.read_csv('./data/test.csv')\n",
    "train_data = pd.read_csv('./data/train.csv')"
   ]
  },
  {
   "cell_type": "code",
   "execution_count": 4,
   "metadata": {
    "scrolled": false
   },
   "outputs": [
    {
     "name": "stdout",
     "output_type": "stream",
     "text": [
      "(42000, 785)\n",
      "   label  pixel0  pixel1  pixel2  pixel3  pixel4  pixel5  pixel6  pixel7  \\\n",
      "0      1       0       0       0       0       0       0       0       0   \n",
      "1      0       0       0       0       0       0       0       0       0   \n",
      "2      1       0       0       0       0       0       0       0       0   \n",
      "3      4       0       0       0       0       0       0       0       0   \n",
      "4      0       0       0       0       0       0       0       0       0   \n",
      "\n",
      "   pixel8    ...     pixel774  pixel775  pixel776  pixel777  pixel778  \\\n",
      "0       0    ...            0         0         0         0         0   \n",
      "1       0    ...            0         0         0         0         0   \n",
      "2       0    ...            0         0         0         0         0   \n",
      "3       0    ...            0         0         0         0         0   \n",
      "4       0    ...            0         0         0         0         0   \n",
      "\n",
      "   pixel779  pixel780  pixel781  pixel782  pixel783  \n",
      "0         0         0         0         0         0  \n",
      "1         0         0         0         0         0  \n",
      "2         0         0         0         0         0  \n",
      "3         0         0         0         0         0  \n",
      "4         0         0         0         0         0  \n",
      "\n",
      "[5 rows x 785 columns]\n",
      "       label  pixel0  pixel1  pixel2  pixel3  pixel4  pixel5  pixel6  pixel7  \\\n",
      "41995      0       0       0       0       0       0       0       0       0   \n",
      "41996      1       0       0       0       0       0       0       0       0   \n",
      "41997      7       0       0       0       0       0       0       0       0   \n",
      "41998      6       0       0       0       0       0       0       0       0   \n",
      "41999      9       0       0       0       0       0       0       0       0   \n",
      "\n",
      "       pixel8    ...     pixel774  pixel775  pixel776  pixel777  pixel778  \\\n",
      "41995       0    ...            0         0         0         0         0   \n",
      "41996       0    ...            0         0         0         0         0   \n",
      "41997       0    ...            0         0         0         0         0   \n",
      "41998       0    ...            0         0         0         0         0   \n",
      "41999       0    ...            0         0         0         0         0   \n",
      "\n",
      "       pixel779  pixel780  pixel781  pixel782  pixel783  \n",
      "41995         0         0         0         0         0  \n",
      "41996         0         0         0         0         0  \n",
      "41997         0         0         0         0         0  \n",
      "41998         0         0         0         0         0  \n",
      "41999         0         0         0         0         0  \n",
      "\n",
      "[5 rows x 785 columns]\n"
     ]
    }
   ],
   "source": [
    "print(train_data.shape)\n",
    "print(train_data.head())\n",
    "print(train_data.tail())\n",
    "#print('-'*40)\n",
    "#print(train_data.info())\n",
    "#print(train_data.describe())"
   ]
  },
  {
   "cell_type": "code",
   "execution_count": null,
   "metadata": {
    "collapsed": true
   },
   "outputs": [],
   "source": [
    "class DigitsModelCNN(object):\n",
    "    def __init__(self):\n",
    "        self.session = tf.InteractiveSession()\n",
    "        self.x = tf.placeholder(tf.float32, shape=[None,784])\n",
    "        \n",
    "    '''\n",
    "    @func       Computes a 2-D convolution given 4-D input and filter tensors.\n",
    "    @param      input   4-D input tensor of shape [batch, in_height, in_width, in_channels]\n",
    "                filter  4-D filter / kernel tensor of shape [filter_height, filter_width, in_channels, out_channels]\n",
    "    @return\n",
    "    @note       卷积运算\n",
    "    '''\n",
    "    def conv2d(self,input,filter):\n",
    "        return tf.nn.conv2d(input, filter, strides=[1,1,1,1], padding='SAME')\n",
    "    \n",
    "    '''\n",
    "    @func       Performs the max pooling on the input.\n",
    "    @param      input   4-D Tensor with shape [batch, height, width, channels] and type tf.float32\n",
    "                ksize   A list of ints that has length >= 4. The size of the window for each dimension of the input tensor.\n",
    "                strides A list of ints that has length >= 4. The stride of the sliding window for each dimension of the input tensor\n",
    "    @return\n",
    "    @note       最大池化运算\n",
    "    '''\n",
    "    def max_pool_2x2(self,input):\n",
    "        return tf.nn.max_pool(input, ksize=[1,2,2,1], strides=[1,2,2,1], padding=\"SAME\")\n",
    "    \n",
    "    '''\n",
    "    @func       outputs random values from a truncated normal distribution.\n",
    "    '''\n",
    "    def init_w(self,shape):\n",
    "        # the standard deviation is 0.1\n",
    "        value = tf.truncated_normal(shape=shape, stddev=0.1)\n",
    "        return tf.Variable(value)\n",
    "    \n",
    "    '''\n",
    "    @func       outputs random values as bias\n",
    "    '''\n",
    "    def init_b(self,shape):\n",
    "        value = tf.constant(0.1, shape=shape)\n",
    "        return tf.Variable(value)\n",
    "    \n",
    "    '''\n",
    "    @note LeNet-5 Architecture\n",
    "    \n",
    "    '''\n",
    "    def build(self):\n",
    "        pass\n",
    "    \n",
    "    def train(self):\n",
    "        pass\n",
    "    \n",
    "    def test(self):\n",
    "        pass\n",
    "    "
   ]
  }
 ],
 "metadata": {
  "kernelspec": {
   "display_name": "Python 2",
   "language": "python2",
   "name": "python2"
  },
  "language_info": {
   "codemirror_mode": {
    "name": "ipython",
    "version": 2
   },
   "file_extension": ".py",
   "mimetype": "text/x-python",
   "name": "python",
   "nbconvert_exporter": "python",
   "pygments_lexer": "ipython2",
   "version": "2.7.14"
  }
 },
 "nbformat": 4,
 "nbformat_minor": 2
}
